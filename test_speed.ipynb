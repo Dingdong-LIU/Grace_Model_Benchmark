{
 "cells": [
  {
   "cell_type": "code",
   "execution_count": 17,
   "metadata": {},
   "outputs": [
    {
     "name": "stdout",
     "output_type": "stream",
     "text": [
      "The autoreload extension is already loaded. To reload it, use:\n",
      "  %reload_ext autoreload\n"
     ]
    }
   ],
   "source": [
    "%load_ext autoreload\n",
    "%autoreload 2"
   ]
  },
  {
   "cell_type": "code",
   "execution_count": 18,
   "metadata": {},
   "outputs": [],
   "source": [
    "from utils.resolve_user_uttr import resolve_user_uttr\n",
    "import pandas as pd\n",
    "import time\n",
    "import timeit\n",
    "from tqdm.notebook import tqdm\n",
    "import datetime\n",
    "from zoneinfo import ZoneInfo"
   ]
  },
  {
   "cell_type": "code",
   "execution_count": 19,
   "metadata": {},
   "outputs": [],
   "source": [
    "def parse_and_save_result(test_result, filename):\n",
    "    def parse_clean_result(row):\n",
    "        slot_filling = row[\"slot_filling\"]\n",
    "        slot_name = row[\"slot\"]\n",
    "        if (\n",
    "            slot_filling\n",
    "            and isinstance(slot_filling, dict)\n",
    "            and slot_name in slot_filling\n",
    "        ):\n",
    "            row[\"parsed_result\"] = slot_filling.get(slot_name, \"\")\n",
    "        else:\n",
    "            row[\"parsed_result\"] = \"\"\n",
    "        return row\n",
    "\n",
    "    azure_openai_gpt4_result = pd.DataFrame(test_result)\n",
    "    azure_openai_gpt4_result = azure_openai_gpt4_result.apply(\n",
    "        parse_clean_result, axis=1\n",
    "    )\n",
    "    # Define the timezone for UTC+8\n",
    "    timezone_utc8 = ZoneInfo(\"Asia/Shanghai\")\n",
    "    # Get the current time in UTC\n",
    "    utc_now = datetime.datetime.now(ZoneInfo(\"UTC\"))\n",
    "    # Convert the UTC time to UTC+8\n",
    "    local_time_utc8 = utc_now.astimezone(timezone_utc8).strftime(\"%Y-%m-%d_%H%M%S%z\")\n",
    "    azure_openai_gpt4_result.to_excel(\n",
    "        f\"test_results/{filename}_result_{local_time_utc8}.xlsx\", index=False\n",
    "    )"
   ]
  },
  {
   "cell_type": "code",
   "execution_count": 20,
   "metadata": {},
   "outputs": [
    {
     "data": {
      "text/plain": [
       "'2024-05-28_134939+0800'"
      ]
     },
     "execution_count": 20,
     "metadata": {},
     "output_type": "execute_result"
    }
   ],
   "source": [
    "# Define the timezone for UTC+8\n",
    "timezone_utc8 = ZoneInfo(\"Asia/Shanghai\")\n",
    "# Get the current time in UTC\n",
    "utc_now = datetime.datetime.now(ZoneInfo(\"UTC\"))\n",
    "# Convert the UTC time to UTC+8\n",
    "local_time_utc8 = utc_now.astimezone(timezone_utc8).strftime(\"%Y-%m-%d_%H%M%S%z\")\n",
    "local_time_utc8"
   ]
  },
  {
   "cell_type": "code",
   "execution_count": 21,
   "metadata": {},
   "outputs": [],
   "source": [
    "df = pd.read_excel(\"dataset/grace-nlu-chatgpt.xlsx\", sheet_name=\"test-result\")"
   ]
  },
  {
   "cell_type": "code",
   "execution_count": 22,
   "metadata": {},
   "outputs": [
    {
     "data": {
      "text/html": [
       "<div>\n",
       "<style scoped>\n",
       "    .dataframe tbody tr th:only-of-type {\n",
       "        vertical-align: middle;\n",
       "    }\n",
       "\n",
       "    .dataframe tbody tr th {\n",
       "        vertical-align: top;\n",
       "    }\n",
       "\n",
       "    .dataframe thead th {\n",
       "        text-align: right;\n",
       "    }\n",
       "</style>\n",
       "<table border=\"1\" class=\"dataframe\">\n",
       "  <thead>\n",
       "    <tr style=\"text-align: right;\">\n",
       "      <th></th>\n",
       "      <th>Unnamed: 0</th>\n",
       "      <th>idx</th>\n",
       "      <th>id</th>\n",
       "      <th>usr_uttr</th>\n",
       "      <th>grace_text</th>\n",
       "      <th>slot</th>\n",
       "      <th>parsed_result</th>\n",
       "      <th>correct_result</th>\n",
       "      <th>is_correct</th>\n",
       "      <th>idx_</th>\n",
       "    </tr>\n",
       "  </thead>\n",
       "  <tbody>\n",
       "    <tr>\n",
       "      <th>0</th>\n",
       "      <td>0</td>\n",
       "      <td>1</td>\n",
       "      <td>q1_0_coughing_existance</td>\n",
       "      <td>我冇咳呀</td>\n",
       "      <td>請問你有冇咳?</td>\n",
       "      <td>cough_existence</td>\n",
       "      <td>no</td>\n",
       "      <td>no</td>\n",
       "      <td>1</td>\n",
       "      <td>1</td>\n",
       "    </tr>\n",
       "    <tr>\n",
       "      <th>1</th>\n",
       "      <td>1</td>\n",
       "      <td>2</td>\n",
       "      <td>q1_0_coughing_existance</td>\n",
       "      <td>冇呀</td>\n",
       "      <td>請問你有冇咳?</td>\n",
       "      <td>cough_existence</td>\n",
       "      <td>no</td>\n",
       "      <td>no</td>\n",
       "      <td>1</td>\n",
       "      <td>2</td>\n",
       "    </tr>\n",
       "    <tr>\n",
       "      <th>2</th>\n",
       "      <td>2</td>\n",
       "      <td>3</td>\n",
       "      <td>q1_0_coughing_existance</td>\n",
       "      <td>有呀</td>\n",
       "      <td>請問你有冇咳?</td>\n",
       "      <td>cough_existence</td>\n",
       "      <td>yes</td>\n",
       "      <td>yes</td>\n",
       "      <td>1</td>\n",
       "      <td>3</td>\n",
       "    </tr>\n",
       "    <tr>\n",
       "      <th>3</th>\n",
       "      <td>3</td>\n",
       "      <td>4</td>\n",
       "      <td>q1_0_coughing_existance</td>\n",
       "      <td>有</td>\n",
       "      <td>請問你有冇咳?</td>\n",
       "      <td>cough_existence</td>\n",
       "      <td>yes</td>\n",
       "      <td>yes</td>\n",
       "      <td>1</td>\n",
       "      <td>4</td>\n",
       "    </tr>\n",
       "    <tr>\n",
       "      <th>4</th>\n",
       "      <td>4</td>\n",
       "      <td>5</td>\n",
       "      <td>q1_0_coughing_existance</td>\n",
       "      <td>有呀，咳得好多呀</td>\n",
       "      <td>你有冇咳呀？</td>\n",
       "      <td>cough_existence</td>\n",
       "      <td>yes</td>\n",
       "      <td>yes</td>\n",
       "      <td>1</td>\n",
       "      <td>5</td>\n",
       "    </tr>\n",
       "    <tr>\n",
       "      <th>...</th>\n",
       "      <td>...</td>\n",
       "      <td>...</td>\n",
       "      <td>...</td>\n",
       "      <td>...</td>\n",
       "      <td>...</td>\n",
       "      <td>...</td>\n",
       "      <td>...</td>\n",
       "      <td>...</td>\n",
       "      <td>...</td>\n",
       "      <td>...</td>\n",
       "    </tr>\n",
       "    <tr>\n",
       "      <th>83</th>\n",
       "      <td>83</td>\n",
       "      <td>84</td>\n",
       "      <td>q2_1_sputum_amount</td>\n",
       "      <td>偶然多啲，通常都ok。</td>\n",
       "      <td>有痰，咁係多痰定少少痰？</td>\n",
       "      <td>sputum_amount</td>\n",
       "      <td>the patient experiences occasional increased s...</td>\n",
       "      <td>increased</td>\n",
       "      <td>1</td>\n",
       "      <td>84</td>\n",
       "    </tr>\n",
       "    <tr>\n",
       "      <th>84</th>\n",
       "      <td>84</td>\n",
       "      <td>85</td>\n",
       "      <td>q2_1_sputum_amount</td>\n",
       "      <td>早上多啲，其他時間都冇咩痰。</td>\n",
       "      <td>有痰，咁係多痰定少少痰？</td>\n",
       "      <td>sputum_amount</td>\n",
       "      <td>早上多痰，其他時間少痰。</td>\n",
       "      <td>more</td>\n",
       "      <td>1</td>\n",
       "      <td>85</td>\n",
       "    </tr>\n",
       "    <tr>\n",
       "      <th>85</th>\n",
       "      <td>85</td>\n",
       "      <td>86</td>\n",
       "      <td>q2_1_sputum_amount</td>\n",
       "      <td>少少痰。</td>\n",
       "      <td>有痰，咁係多痰定少少痰？</td>\n",
       "      <td>sputum_amount</td>\n",
       "      <td>the patient has experienced a small amount of ...</td>\n",
       "      <td>a little</td>\n",
       "      <td>1</td>\n",
       "      <td>86</td>\n",
       "    </tr>\n",
       "    <tr>\n",
       "      <th>86</th>\n",
       "      <td>86</td>\n",
       "      <td>87</td>\n",
       "      <td>q2_1_sputum_amount</td>\n",
       "      <td>好多。</td>\n",
       "      <td>有痰，咁係多痰定少少痰？</td>\n",
       "      <td>sputum_amount</td>\n",
       "      <td>the patient has experienced a lot of sputum.</td>\n",
       "      <td>a lot</td>\n",
       "      <td>1</td>\n",
       "      <td>87</td>\n",
       "    </tr>\n",
       "    <tr>\n",
       "      <th>87</th>\n",
       "      <td>87</td>\n",
       "      <td>88</td>\n",
       "      <td>q2_1_sputum_amount</td>\n",
       "      <td>唔多。</td>\n",
       "      <td>有痰，咁係多痰定少少痰？</td>\n",
       "      <td>sputum_amount</td>\n",
       "      <td>少少痰。</td>\n",
       "      <td>little</td>\n",
       "      <td>1</td>\n",
       "      <td>88</td>\n",
       "    </tr>\n",
       "  </tbody>\n",
       "</table>\n",
       "<p>88 rows × 10 columns</p>\n",
       "</div>"
      ],
      "text/plain": [
       "    Unnamed: 0  idx                       id        usr_uttr    grace_text  \\\n",
       "0            0    1  q1_0_coughing_existance            我冇咳呀       請問你有冇咳?   \n",
       "1            1    2  q1_0_coughing_existance              冇呀       請問你有冇咳?   \n",
       "2            2    3  q1_0_coughing_existance              有呀       請問你有冇咳?   \n",
       "3            3    4  q1_0_coughing_existance               有       請問你有冇咳?   \n",
       "4            4    5  q1_0_coughing_existance        有呀，咳得好多呀        你有冇咳呀？   \n",
       "..         ...  ...                      ...             ...           ...   \n",
       "83          83   84       q2_1_sputum_amount     偶然多啲，通常都ok。  有痰，咁係多痰定少少痰？   \n",
       "84          84   85       q2_1_sputum_amount  早上多啲，其他時間都冇咩痰。  有痰，咁係多痰定少少痰？   \n",
       "85          85   86       q2_1_sputum_amount            少少痰。  有痰，咁係多痰定少少痰？   \n",
       "86          86   87       q2_1_sputum_amount             好多。  有痰，咁係多痰定少少痰？   \n",
       "87          87   88       q2_1_sputum_amount             唔多。  有痰，咁係多痰定少少痰？   \n",
       "\n",
       "               slot                                      parsed_result  \\\n",
       "0   cough_existence                                                 no   \n",
       "1   cough_existence                                                 no   \n",
       "2   cough_existence                                                yes   \n",
       "3   cough_existence                                                yes   \n",
       "4   cough_existence                                                yes   \n",
       "..              ...                                                ...   \n",
       "83    sputum_amount  the patient experiences occasional increased s...   \n",
       "84    sputum_amount                                       早上多痰，其他時間少痰。   \n",
       "85    sputum_amount  the patient has experienced a small amount of ...   \n",
       "86    sputum_amount       the patient has experienced a lot of sputum.   \n",
       "87    sputum_amount                                               少少痰。   \n",
       "\n",
       "   correct_result  is_correct  idx_  \n",
       "0              no           1     1  \n",
       "1              no           1     2  \n",
       "2             yes           1     3  \n",
       "3             yes           1     4  \n",
       "4             yes           1     5  \n",
       "..            ...         ...   ...  \n",
       "83      increased           1    84  \n",
       "84           more           1    85  \n",
       "85       a little           1    86  \n",
       "86         a lot            1    87  \n",
       "87         little           1    88  \n",
       "\n",
       "[88 rows x 10 columns]"
      ]
     },
     "execution_count": 22,
     "metadata": {},
     "output_type": "execute_result"
    }
   ],
   "source": [
    "df"
   ]
  },
  {
   "cell_type": "code",
   "execution_count": null,
   "metadata": {},
   "outputs": [],
   "source": [
    "test_result_gpt4 = []\n",
    "for id, row in tqdm(df.iterrows(), total=len(df)):\n",
    "    user_utter = row[\"usr_uttr\"]\n",
    "    curr_question_id = row[\"id\"]\n",
    "    grace_utter_text = row[\"grace_text\"]\n",
    "    start_time = timeit.default_timer()\n",
    "    result = resolve_user_uttr(user_utter, curr_question_id, grace_utter_text, model_type=0)\n",
    "    end_time = timeit.default_timer()\n",
    "    execution_time = end_time - start_time\n",
    "    result[\"id\"] = row[\"idx\"]\n",
    "    result[\"ground_truth\"] = row[\"correct_result\"]\n",
    "    result[\"execution_time\"] = execution_time\n",
    "    result[\"slot\"] = row[\"slot\"]\n",
    "    test_result_gpt4.append(result)\n",
    "\n",
    "    time.sleep(1)"
   ]
  },
  {
   "cell_type": "code",
   "execution_count": null,
   "metadata": {},
   "outputs": [],
   "source": [
    "parse_and_save_result(test_result_gpt4, \"azure_gpt4\")"
   ]
  },
  {
   "cell_type": "code",
   "execution_count": 23,
   "metadata": {},
   "outputs": [
    {
     "data": {
      "application/vnd.jupyter.widget-view+json": {
       "model_id": "8891e8e502ed42cdb1fd0b7af88b5d5e",
       "version_major": 2,
       "version_minor": 0
      },
      "text/plain": [
       "  0%|          | 0/88 [00:00<?, ?it/s]"
      ]
     },
     "metadata": {},
     "output_type": "display_data"
    }
   ],
   "source": [
    "# test for 4turbo model\n",
    "test_result_4turbo = []\n",
    "for id, row in tqdm(df.iterrows(), total=len(df)):\n",
    "    user_utter = row[\"usr_uttr\"]\n",
    "    curr_question_id = row[\"id\"]\n",
    "    grace_utter_text = row[\"grace_text\"]\n",
    "    start_time = timeit.default_timer()\n",
    "    result = resolve_user_uttr(\n",
    "        user_utter, curr_question_id, grace_utter_text, model_type=1\n",
    "    )\n",
    "    end_time = timeit.default_timer()\n",
    "    execution_time = end_time - start_time\n",
    "    result[\"id\"] = row[\"idx\"]\n",
    "    result[\"ground_truth\"] = row[\"correct_result\"]\n",
    "    result[\"execution_time\"] = execution_time\n",
    "    result[\"slot\"] = row[\"slot\"]\n",
    "    test_result_4turbo.append(result)\n",
    "    time.sleep(1)"
   ]
  },
  {
   "cell_type": "code",
   "execution_count": 24,
   "metadata": {},
   "outputs": [],
   "source": [
    "# save model result for 4turbo\n",
    "parse_and_save_result(test_result_4turbo, \"vender_4turbo\")"
   ]
  },
  {
   "cell_type": "code",
   "execution_count": 25,
   "metadata": {},
   "outputs": [
    {
     "data": {
      "application/vnd.jupyter.widget-view+json": {
       "model_id": "1d15345a55b144b18f7e97c17e527050",
       "version_major": 2,
       "version_minor": 0
      },
      "text/plain": [
       "  0%|          | 0/88 [00:00<?, ?it/s]"
      ]
     },
     "metadata": {},
     "output_type": "display_data"
    }
   ],
   "source": [
    "# test for 4o model\n",
    "test_result_4o = []\n",
    "for id, row in tqdm(df.iterrows(), total=len(df)):\n",
    "    user_utter = row[\"usr_uttr\"]\n",
    "    curr_question_id = row[\"id\"]\n",
    "    grace_utter_text = row[\"grace_text\"]\n",
    "    start_time = timeit.default_timer()\n",
    "    result = resolve_user_uttr(\n",
    "        user_utter, curr_question_id, grace_utter_text, model_type=2)\n",
    "    end_time = timeit.default_timer()\n",
    "    execution_time = end_time - start_time\n",
    "    result[\"id\"] = row[\"idx\"]\n",
    "    result[\"ground_truth\"] = row[\"correct_result\"]\n",
    "    result[\"execution_time\"] = execution_time\n",
    "    result[\"slot\"] = row[\"slot\"]\n",
    "    test_result_4o.append(result)\n",
    "    time.sleep(1)\n"
   ]
  },
  {
   "cell_type": "code",
   "execution_count": 26,
   "metadata": {},
   "outputs": [],
   "source": [
    "parse_and_save_result(test_result_4o, \"vender_4o\")"
   ]
  },
  {
   "cell_type": "code",
   "execution_count": null,
   "metadata": {},
   "outputs": [],
   "source": []
  }
 ],
 "metadata": {
  "kernelspec": {
   "display_name": "venv",
   "language": "python",
   "name": "python3"
  },
  "language_info": {
   "codemirror_mode": {
    "name": "ipython",
    "version": 3
   },
   "file_extension": ".py",
   "mimetype": "text/x-python",
   "name": "python",
   "nbconvert_exporter": "python",
   "pygments_lexer": "ipython3",
   "version": "3.11.5"
  }
 },
 "nbformat": 4,
 "nbformat_minor": 2
}
